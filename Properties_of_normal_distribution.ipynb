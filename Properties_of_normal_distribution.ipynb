{
  "nbformat": 4,
  "nbformat_minor": 0,
  "metadata": {
    "colab": {
      "name": "Properties of normal distribution.ipynb",
      "provenance": [],
      "collapsed_sections": [],
      "authorship_tag": "ABX9TyPVswzSbJHWy5bKKjrl5cR+",
      "include_colab_link": true
    },
    "kernelspec": {
      "name": "python3",
      "display_name": "Python 3"
    },
    "language_info": {
      "name": "python"
    }
  },
  "cells": [
    {
      "cell_type": "markdown",
      "metadata": {
        "id": "view-in-github",
        "colab_type": "text"
      },
      "source": [
        "<a href=\"https://colab.research.google.com/github/KingAgastya/Properties-of-normal-distribution/blob/main/Properties_of_normal_distribution.ipynb\" target=\"_parent\"><img src=\"https://colab.research.google.com/assets/colab-badge.svg\" alt=\"Open In Colab\"/></a>"
      ]
    },
    {
      "cell_type": "code",
      "execution_count": 14,
      "metadata": {
        "id": "iCXzArjO3e3F"
      },
      "outputs": [],
      "source": [
        "import random\n",
        "\n",
        "count = []\n",
        "diceResults = []\n",
        "\n",
        "sum = 0\n",
        "for i in range(1, 100):\n",
        "  dice_1 = random.randint(1, 6)\n",
        "  dice_2 = random.randint(1, 6)\n",
        "\n",
        "  count.append(i)\n",
        "  diceResults.append(dice_1 + dice_2)\n"
      ]
    },
    {
      "cell_type": "code",
      "source": [
        "import plotly.figure_factory as ff\n",
        "\n",
        "fig = ff.create_distplot([diceResults], ['Results'], show_hist = False)\n",
        "fig.show()"
      ],
      "metadata": {
        "id": "Z9CJqv4l4U71"
      },
      "execution_count": null,
      "outputs": []
    },
    {
      "cell_type": "code",
      "source": [
        "import statistics as st\n",
        "\n",
        "mean = st.mean(diceResults)\n",
        "median = st.median(diceResults)\n",
        "mode = st.mode(diceResults)\n",
        "sd = st.stdev(diceResults)\n",
        "\n",
        "print(mean, median, mode, sd)"
      ],
      "metadata": {
        "id": "JizBcnGT40nq"
      },
      "execution_count": null,
      "outputs": []
    },
    {
      "cell_type": "code",
      "source": [
        "sd1Start, sd1End = mean - sd, mean + sd\n",
        "sd2Start, sd2End = mean - (2*sd), mean + (2*sd)\n",
        "sd3Start, sd3End = mean - (3*sd), mean + (3*sd)"
      ],
      "metadata": {
        "id": "Q0ptpN6z6Qoo"
      },
      "execution_count": 19,
      "outputs": []
    },
    {
      "cell_type": "code",
      "source": [
        "import plotly.graph_objects as go\n",
        "fig = ff.create_distplot([diceResults], ['Results'], show_hist = False)\n",
        "\n",
        "fig.add_trace(go.Scatter(x = [mean, mean], y = [0, 0.17], mode = 'lines', name = 'Mean'))\n",
        "\n",
        "fig.add_trace(go.Scatter(x = [sd1Start, sd1Start], y = [0, 0.17], mode = 'lines', name = 'sd1'))\n",
        "fig.add_trace(go.Scatter(x = [sd1End, sd1End], y = [0, 0.17], mode = 'lines', name = 'sd1'))\n",
        "\n",
        "fig.add_trace(go.Scatter(x = [sd2Start, sd2Start], y = [0, 0.17], mode = 'lines', name = 'sd2'))\n",
        "fig.add_trace(go.Scatter(x = [sd2End, sd2End], y = [0, 0.17], mode = 'lines', name = 'sd2'))\n",
        "\n",
        "fig.add_trace(go.Scatter(x = [sd3Start, sd3Start], y = [0, 0.17], mode = 'lines', name = 'sd3'))\n",
        "fig.add_trace(go.Scatter(x = [sd3End, sd3End], y = [0, 0.17], mode = 'lines', name = 'sd1'))\n",
        "\n",
        "fig.show()"
      ],
      "metadata": {
        "id": "znpzGY-A7vib"
      },
      "execution_count": null,
      "outputs": []
    },
    {
      "cell_type": "code",
      "source": [
        "listsd1 = [result for result in diceResults if result > sd1Start and result < sd1End]\n",
        "listsd2 = [result for result in diceResults if result > sd2Start and result < sd2End]\n",
        "listsd3 = [result for result in diceResults if result > sd3Start and result < sd3End]\n",
        "\n",
        "print('{}% of data lies within 1 standard deviation'.format(len(listsd1)*100.0/len(diceResults)))\n",
        "print('{}% of data lies within 2 standard deviation'.format(len(listsd2)*100.0/len(diceResults)))\n",
        "print('{}% of data lies within 3 standard deviation'.format(len(listsd3)*100.0/len(diceResults)))"
      ],
      "metadata": {
        "id": "Y09I-1wB88jQ"
      },
      "execution_count": null,
      "outputs": []
    }
  ]
}